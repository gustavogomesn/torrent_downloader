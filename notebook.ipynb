{
  "cells": [
    {
      "cell_type": "code",
      "execution_count": null,
      "metadata": {
        "colab": {
          "base_uri": "https://localhost:8080/"
        },
        "id": "4Hg621xpsoER",
        "outputId": "d393b0a0-5563-4d82-8aab-435e0b82a09a"
      },
      "outputs": [],
      "source": [
        "from google.colab import drive\n",
        "from torrentp import TorrentDownloader\n",
        "import asyncio\n",
        "import nest_asyncio"
      ]
    },
    {
      "cell_type": "code",
      "execution_count": null,
      "metadata": {},
      "outputs": [],
      "source": [
        "# Mounting Drive folder in Colab environment\n",
        "# A login page going to open to authentication\n",
        "drive.mount('/content/drive')\n",
        "!mkdir -p '/content/drive/My Drive'"
      ]
    },
    {
      "cell_type": "code",
      "execution_count": null,
      "metadata": {
        "colab": {
          "base_uri": "https://localhost:8080/"
        },
        "id": "Mju1qTZqtLen",
        "outputId": "32cfe444-9260-40a8-9f81-475f1aa803d7"
      },
      "outputs": [],
      "source": [
        "torrent_file = TorrentDownloader(\"path/to/torrent/file.torrent\", '/content/drive/My Drive')\n",
        "\n",
        "nest_asyncio.apply()\n",
        "\n",
        "async def main():\n",
        "    await torrent_file.start_download()\n",
        "\n",
        "await main()"
      ]
    }
  ],
  "metadata": {
    "colab": {
      "provenance": []
    },
    "kernelspec": {
      "display_name": "Python 3",
      "name": "python3"
    },
    "language_info": {
      "codemirror_mode": {
        "name": "ipython",
        "version": 3
      },
      "file_extension": ".py",
      "mimetype": "text/x-python",
      "name": "python",
      "nbconvert_exporter": "python",
      "pygments_lexer": "ipython3",
      "version": "3.10.12"
    }
  },
  "nbformat": 4,
  "nbformat_minor": 0
}
